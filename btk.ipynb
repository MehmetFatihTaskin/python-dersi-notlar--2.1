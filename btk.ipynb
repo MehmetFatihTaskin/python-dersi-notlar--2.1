{
 "cells": [
  {
   "cell_type": "code",
   "execution_count": null,
   "metadata": {},
   "outputs": [],
   "source": [
    "#Markdown"
   ]
  },
  {
   "cell_type": "markdown",
   "metadata": {},
   "source": []
  },
  {
   "cell_type": "code",
   "execution_count": 30,
   "metadata": {},
   "outputs": [
    {
     "name": "stdout",
     "output_type": "stream",
     "text": [
      "          Hello world. My name is Fatih           \n"
     ]
    }
   ],
   "source": [
    "mesaj = \"Hello world. My name is Fatih\"\n",
    "\n",
    "#mesaj = mesaj.upper()            } Tüm harfleri büyük yazar\n",
    "#mesaj = mesaj.lower()          } Tüm Harfleri küçük yazar\n",
    "#mesaj = mesaj.capitalize()     } Sadece baş harfini büyük yazar\n",
    "#mesaj = mesaj.title()       } Her kelimenin baş harfini büyük yazar\n",
    "#mesaj = mesaj.split()         #  } Her kelimeyi ayırarak yazar \n",
    "#mesaj = mesaj.strip()         #  } Her kelimeyi ayırarak yazar \n",
    "#index = mesaj.find(\"My\")        #  } cümle içindeki aradığımız kelimeyi buluruz\n",
    "#isFound = mesaj.startswith(\"H\")     # } Cümlenin başladığı harfin doğruluğunu sorarız\n",
    "#isFound = mesaj.endswith(\"h\")     # } Cümlenin başladığı harfin doğruluğunu sorarız\n",
    "#mesaj = mesaj.replace(\"Fatih\",\"Sümeyye\")   # } Cümlenin içindeki ilk yazdığın kelimeyi ikinci yazdığın kelime ile değiştirir\n",
    "mesaj = mesaj.center(50)        # } Cümleyi yazdığın kadar karakterin içine sığdırır ve tam ortalar\n",
    "\n",
    "print(mesaj);\n",
    "\n"
   ]
  },
  {
   "cell_type": "code",
   "execution_count": null,
   "metadata": {},
   "outputs": [],
   "source": []
  }
 ],
 "metadata": {
  "interpreter": {
   "hash": "aecd030d4c8316a52bf122072e28f84bcc79844c2684e041fef2e3f1d9f59078"
  },
  "kernelspec": {
   "display_name": "Python 3.10.0 64-bit",
   "language": "python",
   "name": "python3"
  },
  "language_info": {
   "codemirror_mode": {
    "name": "ipython",
    "version": 3
   },
   "file_extension": ".py",
   "mimetype": "text/x-python",
   "name": "python",
   "nbconvert_exporter": "python",
   "pygments_lexer": "ipython3",
   "version": "3.10.0"
  },
  "orig_nbformat": 4
 },
 "nbformat": 4,
 "nbformat_minor": 2
}
