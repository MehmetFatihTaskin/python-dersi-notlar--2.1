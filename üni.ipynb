{
 "cells": [
  {
   "cell_type": "code",
   "execution_count": null,
   "metadata": {},
   "outputs": [],
   "source": [
    "print(\"merhaba\")"
   ]
  },
  {
   "cell_type": "code",
   "execution_count": null,
   "metadata": {},
   "outputs": [],
   "source": [
    "isim = \"fatih\"\n",
    "print(\"isim\")\n"
   ]
  },
  {
   "cell_type": "markdown",
   "metadata": {},
   "source": [
    "# Markdown format"
   ]
  },
  {
   "cell_type": "code",
   "execution_count": null,
   "metadata": {},
   "outputs": [],
   "source": [
    "a = 5 #integer - int - tamsayı\n",
    "b = 5.1 #float - kesirli sayı\n",
    "c = \"5\" #string - str - metin\n",
    "print( type(a) , type(b) , type(5))\n",
    "\n"
   ]
  },
  {
   "cell_type": "code",
   "execution_count": null,
   "metadata": {},
   "outputs": [],
   "source": [
    "z = True #boolean - bool - doğru yanlış\n",
    "print( type(z))\n"
   ]
  },
  {
   "cell_type": "code",
   "execution_count": null,
   "metadata": {},
   "outputs": [],
   "source": [
    "a = 5e-3\n",
    "print(a)\n"
   ]
  },
  {
   "cell_type": "code",
   "execution_count": null,
   "metadata": {},
   "outputs": [],
   "source": [
    "#metinler tırnak içinde olmalıdır\n",
    "a = \"5\" #sekme tuşu\n",
    "a = '5' #shift + 2\n",
    "c = \"ali'nin mekanı\"\n",
    "print(c)"
   ]
  },
  {
   "cell_type": "code",
   "execution_count": null,
   "metadata": {},
   "outputs": [],
   "source": [
    "### Kaçış Karakteri - Escape Character\n",
    "#tüm programlarda kaçış işareti ters bölü işaretidir \\\n",
    "#altgr + ?\n",
    "c = \"Ali\\'nin\\mekanı\"\n",
    "print(c)\n"
   ]
  },
  {
   "cell_type": "code",
   "execution_count": null,
   "metadata": {},
   "outputs": [],
   "source": [
    "d = \"Bilgisayarda \\tboşluk\\n yoktur\"\n",
    "print(d)\n",
    "# \\n yeni satır karakteridir alt satır geçiyo\n",
    "\n",
    "# \\t sekme tuşu , boşluk atıyo\n",
    "# \\r satır kesme tuşu\n"
   ]
  },
  {
   "cell_type": "code",
   "execution_count": null,
   "metadata": {},
   "outputs": [],
   "source": [
    "metin = \"\"\"uzun metin yazmak \n",
    "artık aralara bastığımız enter tuşunu \n",
    "ekler ... isterseniz\"\"\"\n",
    "print(metin)"
   ]
  },
  {
   "cell_type": "code",
   "execution_count": null,
   "metadata": {},
   "outputs": [],
   "source": [
    "metin = \"birinci\\tsatır\\nikinci satır\"\n",
    "print(metin)"
   ]
  },
  {
   "cell_type": "code",
   "execution_count": null,
   "metadata": {},
   "outputs": [],
   "source": [
    "# Değişken isimleri\n",
    "# * altçizgi veya harf ile başlar\n",
    "# * altçizgi veya rakamla biter\n",
    "\n",
    "\n",
    "_ = 3\n",
    "___ = 3\n",
    "a3 = 3\n",
    "_3 = 233\n",
    "Ali = 5\n",
    "ali = 3\n",
    "aLi = 4\n",
    "ALi = 2"
   ]
  },
  {
   "cell_type": "code",
   "execution_count": null,
   "metadata": {},
   "outputs": [],
   "source": [
    "# Snake case, tüm harfler küçük\n",
    "vergi_hesabı_2022 = 200\n",
    "\n",
    "#Camel case, ortadaki harf büyük \n",
    "vergiHesabı2022 = 200\n",
    "\n",
    "#Kebap case\n",
    "#vergi-hesabı-2022 = 200"
   ]
  },
  {
   "cell_type": "code",
   "execution_count": null,
   "metadata": {},
   "outputs": [],
   "source": [
    "a = 3;  b = 5; c = 8;\n"
   ]
  },
  {
   "cell_type": "code",
   "execution_count": null,
   "metadata": {},
   "outputs": [],
   "source": [
    "# girintiler önemlidir \n",
    "print(\"deneme\")\n",
    "print(\"deneme\")\n"
   ]
  },
  {
   "cell_type": "code",
   "execution_count": null,
   "metadata": {},
   "outputs": [],
   "source": [
    "#operatörler\n",
    "print(2*2)\n",
    "print(2+2)\n",
    "print(2/2)\n",
    "print(2-2)\n",
    "print(2**2)  #karesini alır\n",
    "print(5/2)\n",
    "print(5//2)  # tam kısmını alır\n",
    "print(8%5)  #% işareti mod anlamına gelir, kalanını söyler\n",
    "\n"
   ]
  },
  {
   "cell_type": "code",
   "execution_count": null,
   "metadata": {},
   "outputs": [],
   "source": [
    "import math\n",
    "küre_capı = 10\n",
    "pi = math.pi\n",
    "küre_alan = 4*pi*(küre_capı/2)**2\n",
    "küre_hacmi = 4/3 * pi * (küre_capı/2)**3\n",
    "print(\"capı:\" , küre_capı, \"olan kürenin alanı:\" ,\n",
    "küre_alan, \"cm ve hacmi: \",küre_hacmi ,\"cm dir\")"
   ]
  },
  {
   "cell_type": "code",
   "execution_count": null,
   "metadata": {},
   "outputs": [],
   "source": [
    "denklem = \"5x**2 + 7x - 15 = 0\"\n",
    "#diskiriminant hesplayın\n",
    "a = 5 \n",
    "b = 7\n",
    "c = -15\n",
    "disk = b**2 - 4 * a * c\n",
    "xl = (-b + math.sqrt(disk)) / (2*a)\n",
    "print(\"Denklemi: \" , denklem, \" olan .. Disk=\",disk)\n"
   ]
  },
  {
   "cell_type": "code",
   "execution_count": null,
   "metadata": {},
   "outputs": [],
   "source": [
    "# aşağıdan yukarı doğru 91 m/s huzla atılan topun ulaşacağı yüskesklik nedir\n",
    "v = 91\n",
    "g = 9.83\n",
    "t = v/g\n",
    "h = 0.5 * g * t**2\n",
    "print(\"v:\" ,v, \" m/s h:\",h,\"metredir\")\n"
   ]
  },
  {
   "cell_type": "code",
   "execution_count": null,
   "metadata": {},
   "outputs": [],
   "source": [
    "#vizesi 40 alan çocuğun finalde alması gereken not\n",
    "#geçmne notu - vize * 0.4 + final *0,6\n",
    "vize = 40\n",
    "final = math,ceil( (50-vize*0.4) / 0,6)\n",
    "print(\"finalde \", final, \" almalıdır\")\n"
   ]
  },
  {
   "cell_type": "markdown",
   "metadata": {},
   "source": [
    "\n"
   ]
  },
  {
   "cell_type": "code",
   "execution_count": null,
   "metadata": {},
   "outputs": [],
   "source": [
    "a = 7\n",
    "a = a + 1\n",
    "a +=1\n",
    "a *= 2\n",
    "a**=3\n",
    "a /= 2\n",
    "a //= 2\n",
    "a %= 2\n",
    "\n"
   ]
  },
  {
   "cell_type": "code",
   "execution_count": null,
   "metadata": {},
   "outputs": [],
   "source": [
    "2*3*5\n",
    "6*5\n",
    "30\n",
    "# bilgisayar soldan sağa ve yukardan aşşağı doğrıu işlem yapar\n",
    "( 2 * 3) * 5\n"
   ]
  },
  {
   "cell_type": "code",
   "execution_count": null,
   "metadata": {},
   "outputs": [],
   "source": [
    "a = 3\n",
    "a = 3\n",
    "a = 3\n",
    "# yorum ?\n",
    "print(a)\n",
    "print(a)\n",
    "print(a)\n",
    "\n",
    "\n"
   ]
  },
  {
   "cell_type": "code",
   "execution_count": null,
   "metadata": {},
   "outputs": [],
   "source": [
    "a = 3\n",
    "b = 5\n",
    "\n",
    "# > büyüktür\n",
    "# < küçüktür\n",
    "# <= küçük eşittir\n",
    "# >= büyük eşittir\n",
    "# == tam eşittir\n",
    "# != eşit değildir\n",
    "\n",
    "if (a >= b) :\n",
    "    print(\"a büyük\")\n",
    "    print(\"a1 büyük\")\n",
    "    print(\"a2 büyük\")\n",
    "    print(\"a3 büyük\")\n",
    "\n",
    "else : \n",
    "    print(\"büyük değil\")\n",
    "\n",
    "\n",
    "print(\"programın sonu\")\n",
    "\n",
    "    \n"
   ]
  },
  {
   "cell_type": "code",
   "execution_count": null,
   "metadata": {},
   "outputs": [],
   "source": [
    "a = 3 \n",
    "b = 5\n",
    "if(a<b) :\n",
    "    print(\"a be den büyük\")\n",
    "elif(a > b) :\n",
    "    print(\"a b den büyk\")\n",
    "elif(a==b) :\n",
    "    print(\"a ve b eşit\")\n",
    "\n",
    "elif(a==b) :\n",
    "    print(\"imkansız\")\n"
   ]
  },
  {
   "cell_type": "code",
   "execution_count": null,
   "metadata": {},
   "outputs": [],
   "source": [
    "sayı = int( input(\"bir sayı gir\"))\n",
    "if (sayı%2==1) :\n",
    "    print(\"tek\")\n",
    "else :\n",
    "    print(\"çift\")\n"
   ]
  },
  {
   "cell_type": "code",
   "execution_count": null,
   "metadata": {},
   "outputs": [],
   "source": [
    "# 0 False aksi takdşrde True dur\n",
    "\n",
    "if (\"0\") :\n",
    "    print(\"??\")\n"
   ]
  },
  {
   "cell_type": "code",
   "execution_count": null,
   "metadata": {},
   "outputs": [],
   "source": [
    "sayı = int( input(\"bir sayı gir\"))\n",
    "if (sayı/2==1) :\n",
    "    print(\"tek\")\n",
    "else :\n",
    "    print(\"çift\")"
   ]
  },
  {
   "cell_type": "code",
   "execution_count": null,
   "metadata": {},
   "outputs": [],
   "source": [
    "a = 4\n",
    "b = 5\n",
    "c = 3\n",
    "# if (b>a and c<a and c<b)\n",
    "if(b>a) :\n",
    "    print(\"b büyük\")\n",
    "    if(c>a) :\n",
    "        print(\"c de a dan büyük\") \n",
    "        if(c>b) :\n",
    "            print(\"c de b den büyük\")       \n",
    "    else :\n",
    "        print(\" değil\")\n",
    "else :\n",
    "    print(\"kimin elsi\")\n",
    "print(\"son\")"
   ]
  },
  {
   "cell_type": "code",
   "execution_count": null,
   "metadata": {},
   "outputs": [],
   "source": [
    "a = 3\n",
    "b = 5\n",
    "if(a!=b) :\n",
    "    print(\"eşit değil\")\n",
    "    "
   ]
  },
  {
   "cell_type": "code",
   "execution_count": null,
   "metadata": {},
   "outputs": [],
   "source": [
    "#and &&\n",
    "#or    ||\n",
    "if( True or True) :\n",
    "    print(\"çalışır\")\n",
    "    #hava iyi veya keyfim yerinde ise dışarı çıkacağım\n",
    "    #hava kötü keyfim yerinde\n",
    "    "
   ]
  },
  {
   "cell_type": "code",
   "execution_count": null,
   "metadata": {},
   "outputs": [],
   "source": [
    "if(3%2 and (2<=2 or 3>=1)) :\n",
    "    print(\"??\")\n"
   ]
  },
  {
   "cell_type": "code",
   "execution_count": null,
   "metadata": {},
   "outputs": [],
   "source": [
    "import math\n",
    "vize = int(input(\"vize:\"))\n",
    "if(vize>=0 and vize<=100) :\n",
    "    final = math.ceil( (50-vize*0.4) / 0.6 )\n",
    "    if(final<50) :\n",
    "        final=50\n",
    "    print(\"vizesi: \" , vize,\"olan bir kişi\" ,\n",
    "    \"finalde \", final, \"almalıdır\")\n",
    "else : \n",
    "    print(\"Lütfen doğru sayı giriniz\")\n",
    "\n"
   ]
  },
  {
   "cell_type": "code",
   "execution_count": null,
   "metadata": {},
   "outputs": [],
   "source": [
    "import random\n",
    "rastgele_sayi = random.randrange(1,10)\n",
    "salladığım_sayı = int(input(\"1 ile 10arası sayı yaz: \"))\n",
    "if(salladığım_sayı < rastgele_sayi) :\n",
    "    print(\"daha büyük sayı giriniz\")\n",
    "elif(salladığım_sayı < rastgele_sayi) :\n",
    "    print(\"daha küçük sayı giriniz\")\n",
    "if(salladığım_sayı == rastgele_sayi) :\n",
    "    print(\"tebrikler buldunuz. \")\n",
    "else:\n",
    "    print(\"Bulamadınız. Doğru sayı: \" , rastgele_sayi)"
   ]
  },
  {
   "cell_type": "code",
   "execution_count": null,
   "metadata": {},
   "outputs": [],
   "source": []
  },
  {
   "cell_type": "code",
   "execution_count": null,
   "metadata": {},
   "outputs": [],
   "source": [
    "i = 0\n",
    "while True :\n",
    "    print(i)\n",
    "    i += 1\n",
    "    if(i>10) :\n",
    "        break   # içinde olduğu while döngüsünü durdurdu\n",
    "    "
   ]
  },
  {
   "cell_type": "code",
   "execution_count": null,
   "metadata": {},
   "outputs": [],
   "source": [
    "# Loops - Döngüler\n",
    "a = 1\n",
    "while(a<=10) :\n",
    "    print(a, \"bunu yaz\")\n",
    "    a += 1\n",
    "print(\"programın sonu\")\n"
   ]
  },
  {
   "cell_type": "code",
   "execution_count": null,
   "metadata": {},
   "outputs": [],
   "source": [
    "if ( 3 > 2 ) :\n",
    "    pass # boş bırakıcaksan kullanılır\n",
    "\n"
   ]
  },
  {
   "cell_type": "code",
   "execution_count": null,
   "metadata": {},
   "outputs": [],
   "source": [
    "#\n",
    "##\n",
    "###\n",
    "####\n",
    "#####"
   ]
  },
  {
   "cell_type": "code",
   "execution_count": null,
   "metadata": {},
   "outputs": [],
   "source": [
    "x = 1\n",
    "while(x<6) :\n",
    "    print(x) \n",
    "    x += 1\n",
    "    \n"
   ]
  },
  {
   "cell_type": "code",
   "execution_count": null,
   "metadata": {},
   "outputs": [],
   "source": [
    "x = 5\n",
    "while(x>0) :\n",
    "    print(x)\n",
    "    x -= 1\n"
   ]
  },
  {
   "cell_type": "code",
   "execution_count": null,
   "metadata": {},
   "outputs": [],
   "source": [
    "x = 1\n",
    "bitis = 10\n",
    "while(x<bitis) :\n",
    "    if (x > 5) :\n",
    "    print((bitis-x)*\"#\")\n",
    "    else :\n",
    "        print(x*\"#\")\n",
    "\n",
    "   "
   ]
  },
  {
   "cell_type": "code",
   "execution_count": null,
   "metadata": {},
   "outputs": [],
   "source": [
    "başlangıç = 0\n",
    "bitiş = 100\n",
    "adım = 13\n",
    "\n",
    "index = başlangıç\n",
    "while(index < bitiş) :\n",
    "    print(index)\n",
    "    index += adım\n"
   ]
  },
  {
   "cell_type": "code",
   "execution_count": null,
   "metadata": {},
   "outputs": [],
   "source": [
    "# döngülerde while = dor \n",
    "\n",
    "for c in \"merhaba \":\n",
    "    print(c)\n"
   ]
  },
  {
   "cell_type": "code",
   "execution_count": null,
   "metadata": {},
   "outputs": [],
   "source": [
    "for i in 1,2,3,4,5 :\n",
    "    print(i)\n"
   ]
  },
  {
   "cell_type": "code",
   "execution_count": null,
   "metadata": {},
   "outputs": [],
   "source": [
    "# start\n",
    "# stop \n",
    "# step\n",
    "\n",
    "\n",
    "\n",
    "\n",
    "for i in range(10):\n",
    "    print(i)\n"
   ]
  },
  {
   "cell_type": "code",
   "execution_count": null,
   "metadata": {},
   "outputs": [],
   "source": [
    "for i in range(10,0,-2) :\n",
    "    print(i)\n"
   ]
  },
  {
   "cell_type": "code",
   "execution_count": null,
   "metadata": {},
   "outputs": [],
   "source": [
    "# 5 faktöriyeli hesplayan kodu yaz\n",
    "# 5! = 5*4*3*2*1\n",
    "sonuç = 1\n",
    "for i in range(1,6) :\n",
    "    sonuç *= i\n",
    "print( f\"5! = {sonuç}\")\n",
    "\n"
   ]
  },
  {
   "cell_type": "code",
   "execution_count": null,
   "metadata": {},
   "outputs": [],
   "source": [
    "# 10 faktoriyele kadar tüm rakamları yazdırın\n",
    "sonuç = 1\n",
    "for i in range(1,6) :\n",
    "    sonuç *= i\n",
    "    print( f\"{i}! = {sonuç}\" )\n",
    "\n"
   ]
  },
  {
   "cell_type": "code",
   "execution_count": null,
   "metadata": {},
   "outputs": [],
   "source": [
    "for i in range(100) :\n",
    "    if ( i % 10 !=0) :  # sadece 10 ve katlarını yaz\n",
    "        continue   #kendinden aşağısını çalıştırmıyor\n",
    "    print(i)"
   ]
  },
  {
   "cell_type": "code",
   "execution_count": null,
   "metadata": {},
   "outputs": [],
   "source": [
    "for i in range(1,6) :\n",
    "    for x in range(1,i+1) :\n",
    "        print(x,end=\"-\")\n",
    "    print(\"\")\n",
    "\n"
   ]
  },
  {
   "cell_type": "code",
   "execution_count": null,
   "metadata": {},
   "outputs": [],
   "source": [
    "# 1 den 50 ye kadar olan sayıların toplamı\n",
    "sayi = 50\n",
    "sonuç = 0\n",
    "\n",
    "for i in range(50+1) :\n",
    "    sonuç += i\n",
    "print(f\"{sayi}ye kadar toplam = {sonuç}\")\n",
    "\n",
    "\n"
   ]
  },
  {
   "cell_type": "code",
   "execution_count": null,
   "metadata": {},
   "outputs": [],
   "source": [
    "#20 ye kadar 2 dahil asal sayıları yazdırın\n",
    "\n",
    "for i in range(2,41) :\n",
    "    asal = True\n",
    "    for x in range(2,i) :\n",
    "        if ( i % x == 0) :\n",
    "            asal = False\n",
    "            break\n",
    "    if(asal) :\n",
    "        print(i)\n"
   ]
  },
  {
   "cell_type": "code",
   "execution_count": null,
   "metadata": {},
   "outputs": [],
   "source": [
    "import time\n",
    "\n",
    "baslangıc_zamanı = time.time()\n",
    "\n",
    "for i in range (1_000_000):\n",
    "    x = i**2\n",
    "\n",
    "bitis_zamanı = time.time()\n",
    "\n",
    "print(f\"Program {bitis_zamanı - baslangıc_zamanı}  kadar sürdü\" )"
   ]
  },
  {
   "cell_type": "code",
   "execution_count": null,
   "metadata": {},
   "outputs": [],
   "source": [
    "# modüller ve paketler"
   ]
  },
  {
   "cell_type": "code",
   "execution_count": null,
   "metadata": {},
   "outputs": [],
   "source": [
    "import math\n",
    "import myfunction\n",
    "print(math.pi)\n",
    "print(myfunction.pi)\n",
    "myfunction.selam_soyle()"
   ]
  },
  {
   "cell_type": "code",
   "execution_count": null,
   "metadata": {},
   "outputs": [],
   "source": [
    "from math import *\n",
    "\n",
    "sqrt(15)"
   ]
  },
  {
   "cell_type": "code",
   "execution_count": null,
   "metadata": {},
   "outputs": [],
   "source": [
    "#python install packages\n",
    "import pygame"
   ]
  },
  {
   "cell_type": "code",
   "execution_count": null,
   "metadata": {},
   "outputs": [],
   "source": [
    "import pip"
   ]
  },
  {
   "cell_type": "code",
   "execution_count": null,
   "metadata": {},
   "outputs": [],
   "source": [
    "#data structures aND ALGORİTHİES } youtubeden video izzle\n",
    "#veri yapıları ve algoritmalar\n",
    "# algoritma oluşum sırası\n",
    "# algoritma olması için sorun olması lazım\n",
    "# sonlu olmalıdır\n",
    "# aşamaların sırası takip edilmelidir\n"
   ]
  },
  {
   "cell_type": "code",
   "execution_count": null,
   "metadata": {},
   "outputs": [],
   "source": [
    "pazar_listesi(\"domates\",\"patates\")\n",
    "pazar_listesi.append(\"zeytin\")\n",
    "\n",
    "\n",
    "for i in pazar_listesi :\n",
    "    print(i)\n",
    "    \n"
   ]
  },
  {
   "cell_type": "code",
   "execution_count": null,
   "metadata": {},
   "outputs": [],
   "source": [
    "pazar_listesi[ -4   ]\n"
   ]
  },
  {
   "cell_type": "code",
   "execution_count": null,
   "metadata": {},
   "outputs": [],
   "source": [
    "ls = [ \"m\",\"e\",\"r\",\"h\",\"a\",\"b\",\"a\" ]\n",
    "ms = \"merhaba\"\n",
    "\n",
    "#for i in ms:\n",
    " #\n",
    " #    print(i)\n",
    "\n",
    "\n",
    "\n",
    " print(ms[3])\n",
    " type(ls)\n",
    " "
   ]
  },
  {
   "cell_type": "code",
   "execution_count": null,
   "metadata": {},
   "outputs": [],
   "source": [
    "a = [ 5 , 2.7,True,\"metin\",[\"liste\",\"diğer,[\"Fatih\"]]\n",
    "print(len(a))\n",
    "\n",
    "\n",
    "print(len(a))\n",
    "x = a[4][2][]\n",
    "\n",
    "\n",
    "\n"
   ]
  },
  {
   "cell_type": "code",
   "execution_count": null,
   "metadata": {},
   "outputs": [],
   "source": [
    "a =[ 9 , 3 , 5 , 7 ]\n",
    "\n",
    "a.sort(reverse=True)    # sırasına göre sıralar\n",
    "\n",
    "\n",
    "\n",
    "c = sorted(a)   # büyüklüğüne göre sıralar\n",
    "c"
   ]
  },
  {
   "cell_type": "code",
   "execution_count": null,
   "metadata": {},
   "outputs": [],
   "source": [
    "# Algoritma\n",
    "\n",
    "#def yer değiştir\n",
    "def swap(liste,indis1,indis2) :\n",
    "    tmp = liste[indis1]\n",
    "    liste[indis1] = liste[indis2] \n",
    "    liste[indis2] = tmp\n",
    "\n",
    "a = [ 9 , 3 , 5 , 7 ]\n",
    "\n",
    "for x in range(1,len(a)):\n",
    "    for i in range(len(a)-x):\n",
    "        if(a[i] > a[i+1]) :\n",
    "            swap(a,i,i+1)\n",
    "\n",
    "  \n",
    "\n",
    "a"
   ]
  },
  {
   "cell_type": "code",
   "execution_count": null,
   "metadata": {},
   "outputs": [],
   "source": [
    "#a = []\n",
    "#for i in range(100):\n",
    " #   a.append(0)\n",
    "a = [  i for i in range(100)]\n",
    "print(a)"
   ]
  },
  {
   "cell_type": "code",
   "execution_count": null,
   "metadata": {},
   "outputs": [],
   "source": [
    "z = \"merhaba dünya\"\n",
    "\n",
    "# range (start , stop , step )# range döngüsüğnün ksaltması\n",
    "print( z[3:12:2] )              # 3 den 12 ye kadar 2 şer say\n",
    "\n"
   ]
  },
  {
   "cell_type": "code",
   "execution_count": null,
   "metadata": {},
   "outputs": [],
   "source": [
    "# Dictionary - sözlik tipi değişken\n",
    "# anahtar ve değer\n",
    "\n",
    "#a = 3, 5\n",
    "#a = (3,5)\n",
    "#type(a)\n",
    "\n",
    "a = [\"a\" , \"b\" , \"c\" ]\n",
    "\n",
    "z = { 0:\"a\",1:\"b\",2:\"c\"}\n",
    "\n",
    "öğrenci_kartı = {\n",
    "    2021 : \"deneme\"\n",
    "    }\n",
    "\n",
    "z\n",
    "\n"
   ]
  },
  {
   "cell_type": "code",
   "execution_count": null,
   "metadata": {},
   "outputs": [],
   "source": [
    "öğrenci_kartı = {\n",
    "    2021 : {\n",
    "        \"matematik\" : {\"vize\":50,\"final\":40},\n",
    "        \"fizik\":{\"vize\":70,\"final\":60,\"ödev\":[\"ödev1\" , \"proje2\"]}\n",
    "\n",
    "    }\n",
    "    }\n",
    "öğrenci_kartı[2021][\"fizik\"][\"vize\"]\n"
   ]
  },
  {
   "cell_type": "code",
   "execution_count": null,
   "metadata": {},
   "outputs": [],
   "source": [
    "z = { 0:1,1:2,2:3,3:5}          # bu format ile sıralanmaz\n",
    "\n",
    "\n",
    "z"
   ]
  },
  {
   "cell_type": "code",
   "execution_count": null,
   "metadata": {},
   "outputs": [],
   "source": [
    "# Programlama dersivize snavı soruları çözüm\n",
    "\n",
    "print(\"5+3\")\n",
    "print( 8//3) \n",
    "print(dünya)"
   ]
  },
  {
   "cell_type": "code",
   "execution_count": null,
   "metadata": {},
   "outputs": [],
   "source": [
    "liste = [True,\"12\",\"Ali\",\"Veli\"]\n",
    "liste.append(\"Ahmet\")\n",
    "                                # Split listeye çevirme komutu\n",
    "#print(len(liste))               # liste elemanlarının sayısını göstermekiçin len komutu kullan\n",
    "del liste[-1]                   # Listeden silmek için del komudunu kullan\n",
    "print(liste)\n"
   ]
  },
  {
   "cell_type": "code",
   "execution_count": null,
   "metadata": {},
   "outputs": [],
   "source": [
    "### BTK Akademi ders notları\n",
    "\n",
    "### İlk olarak bir liste oluşturuyoruz\n",
    "arabalar = [\"Mercedes\",\"BMW\",\"Audi\",\"Opel\",\"Mazda\"]\n",
    "\n",
    "### Listedeki eleman sayısını yazdırıyoruz\n",
    "result =len(arabalar)\n",
    "\n",
    "#print(result)\n",
    "\n",
    "### Listenin son ve ilk elemanını yazdırıyoruz\n",
    "\n",
    "result = arabalar[0]\n",
    "result = arabalar[-1]\n",
    "#print(result)\n",
    "\n",
    "### Mazdayı toyota ile değiştir\n",
    "arabalar[-1] = \"Toyota\"\n",
    "result = arabalar\n",
    "#print(result)\n",
    "\n",
    "### Mercedes listenin bir elemanımıdır diye sor\n",
    "result = \"Mercedes\" in arabalar\n",
    "#print(result)\n",
    "\n",
    "### Listenin -2.değeri nedir\n",
    "result = arabalar [-2]\n",
    "#print(result)\n",
    "\n",
    "### Listenin ilk 3 indeksindeki elemanları yazdır\n",
    "result = arabalar [0:3]\n",
    "#print(result)\n",
    "\n",
    "### Listenin son 2 elemanı yerine Toyota ve Renault elemanı ekle\n",
    "arabalar [-2:] = [\"Toyota\", \"Renault\"]\n",
    "#print(arabalar)\n",
    "\n",
    "### Listenin içine Honda ve Nissan ata\n",
    "result = arabalar + [\"Honda\",\"Nissan\"]\n",
    "#print(result)\n",
    "\n",
    "### Listenin son elemanını sil\n",
    "del arabalar[-1]\n",
    "result = arabalar\n",
    "#print(result)\n",
    "\n",
    "### Listeyi testen yazdır\n",
    "result = arabalar[::-1]             # Listeyi tersten yazdırmak için kullanılır *** :: ise baştan sona git ,   -1 sondan saymaya devam et\n",
    "print(result)\n",
    "\n",
    "### \n"
   ]
  },
  {
   "cell_type": "code",
   "execution_count": null,
   "metadata": {},
   "outputs": [],
   "source": [
    "\n",
    "\n",
    "\n",
    "\n"
   ]
  }
 ],
 "metadata": {
  "interpreter": {
   "hash": "aecd030d4c8316a52bf122072e28f84bcc79844c2684e041fef2e3f1d9f59078"
  },
  "kernelspec": {
   "display_name": "Python 3.10.0 64-bit",
   "language": "python",
   "name": "python3"
  },
  "language_info": {
   "codemirror_mode": {
    "name": "ipython",
    "version": 3
   },
   "file_extension": ".py",
   "mimetype": "text/x-python",
   "name": "python",
   "nbconvert_exporter": "python",
   "pygments_lexer": "ipython3",
   "version": "3.10.0"
  },
  "orig_nbformat": 4
 },
 "nbformat": 4,
 "nbformat_minor": 2
}
